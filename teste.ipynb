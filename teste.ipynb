{
 "cells": [
  {
   "cell_type": "code",
   "execution_count": 66,
   "metadata": {},
   "outputs": [
    {
     "name": "stdout",
     "output_type": "stream",
     "text": [
      "Temperatura:  8.3 Temperatura Baixa\n",
      "Baatimentos cardicacos p/m:  156.85 Sem risco\n",
      "\n",
      "\n",
      "Temperatura:  0.62 Temperatura Baixa\n",
      "Baatimentos cardicacos p/m:  96.6 Risco de desmaio\n",
      "\n",
      "\n"
     ]
    },
    {
     "ename": "KeyboardInterrupt",
     "evalue": "",
     "output_type": "error",
     "traceback": [
      "\u001b[1;31m---------------------------------------------------------------------------\u001b[0m",
      "\u001b[1;31mKeyboardInterrupt\u001b[0m                         Traceback (most recent call last)",
      "Cell \u001b[1;32mIn[66], line 52\u001b[0m\n\u001b[0;32m     47\u001b[0m     \u001b[39mprint\u001b[39m(\u001b[39m'\u001b[39m\u001b[39mBaatimentos cardicacos p/m: \u001b[39m\u001b[39m'\u001b[39m, batimento, alerta_batimentos(batimento))\n\u001b[0;32m     48\u001b[0m     \u001b[39mprint\u001b[39m(\u001b[39m'\u001b[39m\u001b[39m\\n\u001b[39;00m\u001b[39m'\u001b[39m)\n\u001b[1;32m---> 52\u001b[0m atualiza_dados(temp, pressao)\n",
      "Cell \u001b[1;32mIn[66], line 36\u001b[0m, in \u001b[0;36matualiza_dados\u001b[1;34m(temp, batimento)\u001b[0m\n\u001b[0;32m     33\u001b[0m \u001b[39mdef\u001b[39;00m \u001b[39matualiza_dados\u001b[39m(temp, batimento):\n\u001b[0;32m     35\u001b[0m   \u001b[39mwhile\u001b[39;00m temp \u001b[39mand\u001b[39;00m batimento:\n\u001b[1;32m---> 36\u001b[0m     time\u001b[39m.\u001b[39;49msleep(\u001b[39m2\u001b[39;49m)\n\u001b[0;32m     37\u001b[0m     alerta_batimentos(batimento)\n\u001b[0;32m     38\u001b[0m     alerta_temp(temp)\n",
      "\u001b[1;31mKeyboardInterrupt\u001b[0m: "
     ]
    }
   ],
   "source": [
    "import requests\n",
    "import time\n",
    "\n",
    "link = 'https://apisimulasensor.alysonvargas2.repl.co/dados'\n",
    "req_dados = requests.get(link)\n",
    "\n",
    "dic_dados = req_dados.json()\n",
    "temp = dic_dados['Temperatura']\n",
    "pressao = dic_dados['Batimentos']\n",
    "\n",
    "\n",
    "\n",
    "Temperaturas= []\n",
    "Batimentos_cardiaco = []\n",
    "\n",
    "\n",
    "def alerta_batimentos(batimento):\n",
    "  if batimento < 120:\n",
    "    return('Risco de desmaio')\n",
    "  elif batimento > 170:\n",
    "    return ('Risco de ataque cardiaco')\n",
    "  else:\n",
    "    return('Sem risco')\n",
    "\n",
    "def alerta_temp(temp):\n",
    "   if temp > 35:\n",
    "    return('Temperatura Alta')\n",
    "   elif temp < 15:\n",
    "     return('Temperatura Baixa')\n",
    "   else:\n",
    "     return('temperatura normal')\n",
    "   \n",
    "def atualiza_dados(temp, batimento):\n",
    "  \n",
    "  while temp and batimento:\n",
    "    time.sleep(2)\n",
    "    alerta_batimentos(batimento)\n",
    "    alerta_temp(temp)\n",
    "    req_atualiza_dados = requests.get(link)\n",
    "    dic_atualiza_dados = req_atualiza_dados.json()\n",
    "    temp = dic_atualiza_dados['Temperatura']\n",
    "    batimento = dic_atualiza_dados['Batimentos']\n",
    "    Temperaturas.append(temp)\n",
    "    Batimentos_cardiaco.append(batimento)\n",
    "    \n",
    "    print('Temperatura: ',temp, alerta_temp(temp))\n",
    "    print('Baatimentos cardicacos p/m: ', batimento, alerta_batimentos(batimento))\n",
    "    print('\\n')\n",
    "    \n",
    "\n",
    "\n",
    "atualiza_dados(temp, pressao)\n",
    "\n",
    "\n",
    "\n",
    "\n",
    "\n"
   ]
  }
 ],
 "metadata": {
  "kernelspec": {
   "display_name": "Python 3",
   "language": "python",
   "name": "python3"
  },
  "language_info": {
   "codemirror_mode": {
    "name": "ipython",
    "version": 3
   },
   "file_extension": ".py",
   "mimetype": "text/x-python",
   "name": "python",
   "nbconvert_exporter": "python",
   "pygments_lexer": "ipython3",
   "version": "3.10.5"
  },
  "orig_nbformat": 4
 },
 "nbformat": 4,
 "nbformat_minor": 2
}
